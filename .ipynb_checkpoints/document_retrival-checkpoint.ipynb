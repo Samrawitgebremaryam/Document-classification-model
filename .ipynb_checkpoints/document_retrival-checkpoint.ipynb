{
 "cells": [
  {
   "cell_type": "code",
   "execution_count": null,
   "id": "1a2b31e0-096c-4c89-a8cd-3aa5498f5480",
   "metadata": {},
   "outputs": [],
   "source": [
    "from sklearn.datasets import fetch_20newsgroups\n",
    "\n",
    "# Download and load the dataset\n",
    "newsgroups = fetch_20newsgroups(subset='all', remove=('headers', 'footers', 'quotes'))\n",
    "\n",
    "# Access the data and target\n",
    "data = newsgroups.data\n",
    "target = newsgroups.target\n",
    "target_names = newsgroups.target_names\n",
    "print(\"helloworld\")\n"
   ]
  },
  {
   "cell_type": "code",
   "execution_count": null,
   "id": "17f78715-ea6e-4b46-850f-7008edfefe94",
   "metadata": {},
   "outputs": [],
   "source": [
    "from sklearn.feature_extraction.text import TfidfVectorizer\n",
    "\n",
    "vectorizer = TfidfVectorizer(stop_words='english')\n",
    "X = vectorizer.fit_transform(data)\n"
   ]
  },
  {
   "cell_type": "code",
   "execution_count": null,
   "id": "e75cbea6-2ae5-430f-aa50-9bd3e2535ce0",
   "metadata": {},
   "outputs": [],
   "source": [
    "from sklearn.metrics.pairwise import cosine_similarity\n",
    "\n",
    "def retrieve_top_documents(query, X, vectorizer, top_n=3):\n",
    "  # Transform the query into the same TF-IDF space\n",
    "  query_vec = vectorizer.transform([query])\n",
    "  # Compute cosine similarities between the query and all documents\n",
    "  similarities = cosine_similarity(query_vec, X)\n",
    "  # Get indices of the top_n most similar documents\n",
    "  top_indices = similarities[0].argsort()[-top_n:][::-1]\n",
    "  return top_indices, similarities[0][top_indices]\n"
   ]
  },
  {
   "cell_type": "code",
   "execution_count": null,
   "id": "fe69b981-3635-40b2-b76c-fd7199ac129c",
   "metadata": {},
   "outputs": [],
   "source": [
    "queries = [\n",
    "  \"computer graphics\",\n",
    "  \"religion and spirituality\",\n",
    "  \"medical research\"\n",
    "]\n"
   ]
  },
  {
   "cell_type": "code",
   "execution_count": null,
   "id": "56028884-1c10-49d6-abc3-fc804a5811b9",
   "metadata": {},
   "outputs": [],
   "source": [
    "for query in queries:\n",
    "  print(f\"Query: {query}\")\n",
    "  indices, scores = retrieve_top_documents(query, X, vectorizer)\n",
    "  for idx, score in zip(indices, scores):\n",
    "      print(f\"Document: {data[idx][:200]}...\")  # Display first 200 characters\n",
    "      print(f\"Similarity Score: {score:.4f}\")\n",
    "  print(\"\\n\" + \"-\"*50 + \"\\n\")\n"
   ]
  },
  {
   "cell_type": "code",
   "execution_count": null,
   "id": "82c158c5-e459-4691-9a62-e5e1c44dfb55",
   "metadata": {},
   "outputs": [],
   "source": []
  }
 ],
 "metadata": {
  "kernelspec": {
   "display_name": "Python 3 (ipykernel)",
   "language": "python",
   "name": "python3"
  },
  "language_info": {
   "codemirror_mode": {
    "name": "ipython",
    "version": 3
   },
   "file_extension": ".py",
   "mimetype": "text/x-python",
   "name": "python",
   "nbconvert_exporter": "python",
   "pygments_lexer": "ipython3",
   "version": "3.11.4"
  }
 },
 "nbformat": 4,
 "nbformat_minor": 5
}
