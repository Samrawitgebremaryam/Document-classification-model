{
 "cells": [
  {
   "cell_type": "code",
   "execution_count": 16,
   "id": "72d9555a-61a9-44db-9765-355124dc22f3",
   "metadata": {},
   "outputs": [
    {
     "name": "stdout",
     "output_type": "stream",
     "text": [
      "Requirement already satisfied: scikit-learn in c:\\users\\samra\\documents\\icog\\tf-idf-document-retrieval-system\\venv\\lib\\site-packages (1.6.1)\n",
      "Requirement already satisfied: numpy>=1.19.5 in c:\\users\\samra\\documents\\icog\\tf-idf-document-retrieval-system\\venv\\lib\\site-packages (from scikit-learn) (2.2.3)\n",
      "Requirement already satisfied: scipy>=1.6.0 in c:\\users\\samra\\documents\\icog\\tf-idf-document-retrieval-system\\venv\\lib\\site-packages (from scikit-learn) (1.15.2)\n",
      "Requirement already satisfied: joblib>=1.2.0 in c:\\users\\samra\\documents\\icog\\tf-idf-document-retrieval-system\\venv\\lib\\site-packages (from scikit-learn) (1.4.2)\n",
      "Requirement already satisfied: threadpoolctl>=3.1.0 in c:\\users\\samra\\documents\\icog\\tf-idf-document-retrieval-system\\venv\\lib\\site-packages (from scikit-learn) (3.5.0)\n"
     ]
    },
    {
     "name": "stderr",
     "output_type": "stream",
     "text": [
      "\n",
      "[notice] A new release of pip is available: 23.1.2 -> 25.0.1\n",
      "[notice] To update, run: python.exe -m pip install --upgrade pip\n"
     ]
    }
   ],
   "source": [
    "!pip install scikit-learn"
   ]
  },
  {
   "cell_type": "markdown",
   "id": "5d338472",
   "metadata": {},
   "source": []
  },
  {
   "cell_type": "code",
   "execution_count": 2,
   "id": "81389fb5-9960-4f7c-9295-0dccc469152e",
   "metadata": {},
   "outputs": [],
   "source": [
    "from sklearn.datasets import fetch_20newsgroups\n",
    "from sklearn.feature_extraction.text import TfidfVectorizer\n",
    "from sklearn.metrics.pairwise import cosine_similarity\n"
   ]
  },
  {
   "cell_type": "code",
   "execution_count": 3,
   "id": "1a2b31e0-096c-4c89-a8cd-3aa5498f5480",
   "metadata": {},
   "outputs": [],
   "source": [
    "newsgroups = fetch_20newsgroups(subset='all', remove=('headers', 'footers', 'quotes'))\n",
    "data = newsgroups.data\n",
    "target = newsgroups.target\n",
    "target_names = newsgroups.target_names\n"
   ]
  },
  {
   "cell_type": "code",
   "execution_count": 4,
   "id": "17f78715-ea6e-4b46-850f-7008edfefe94",
   "metadata": {},
   "outputs": [],
   "source": [
    "vectorizer = TfidfVectorizer(stop_words='english')\n",
    "X = vectorizer.fit_transform(data)"
   ]
  },
  {
   "cell_type": "code",
   "execution_count": 14,
   "id": "19c80513",
   "metadata": {},
   "outputs": [],
   "source": [
    "import re\n",
    "\n",
    "def highlight_query_terms(query, document):\n",
    "    # Escape special characters in the query\n",
    "    query = re.escape(query)\n",
    "    # Create a regular expression pattern to match the query terms\n",
    "    pattern = r'(\\b' + query + r'\\b)'\n",
    "    # Replace matched terms with highlighted versions\n",
    "    highlighted_document = re.sub(pattern, r'<mark>\\1</mark>', document, flags=re.IGNORECASE)\n",
    "    return highlighted_document\n"
   ]
  },
  {
   "cell_type": "code",
   "execution_count": 9,
   "id": "e75cbea6-2ae5-430f-aa50-9bd3e2535ce0",
   "metadata": {},
   "outputs": [],
   "source": [
    "def retrieve_top_documents(query, X, vectorizer, data, top_n=3):\n",
    "    query_vec = vectorizer.transform([query])\n",
    "    similarities = cosine_similarity(query_vec, X)\n",
    "    top_indices = similarities[0].argsort()[-top_n:][::-1]\n",
    "    top_documents = [(data[idx], similarities[0][idx]) for idx in top_indices]\n",
    "    highlighted_documents = [(highlight_query_terms(query, doc), score) for doc, score in top_documents]\n",
    "    return highlighted_documents\n"
   ]
  },
  {
   "cell_type": "code",
   "execution_count": 15,
   "id": "0c45fc3e",
   "metadata": {},
   "outputs": [],
   "source": [
    "def format_output(query, highlighted_documents):\n",
    "    print(f\"Query: {query}\\n\")\n",
    "    for i, (doc, score) in enumerate(highlighted_documents, 1):\n",
    "        print(f\"Document {i}:\")\n",
    "        print(f\"Similarity Score: {score:.4f}\")\n",
    "        print(f\"Content: {doc[:500]}...\")  # Display the first 500 characters\n",
    "        print(\"\\n\" + \"-\"*50 + \"\\n\")\n"
   ]
  },
  {
   "cell_type": "code",
   "execution_count": 11,
   "id": "fe69b981-3635-40b2-b76c-fd7199ac129c",
   "metadata": {},
   "outputs": [],
   "source": [
    "queries = [\n",
    "    \"computer graphics\",\n",
    "    \"artificial intelligence\",\n",
    "    \"quantum computing\"\n",
    "]\n"
   ]
  },
  {
   "cell_type": "code",
   "execution_count": 12,
   "id": "56028884-1c10-49d6-abc3-fc804a5811b9",
   "metadata": {},
   "outputs": [
    {
     "name": "stdout",
     "output_type": "stream",
     "text": [
      "Query: computer graphics\n",
      "\n",
      "Document 1:\n",
      "Similarity Score: 0.4859\n",
      "Content: Technion - Israel Institute of Technology\n",
      "         Department of Computer Science\n",
      "\n",
      "       GRADUATE STUDIES IN <mark>COMPUTER GRAPHICS</mark>\n",
      "\n",
      "Applications are invited for graduate students wishing\n",
      "to specialize in <mark>computer graphics</mark> and related fields.\n",
      "Active research is being conducted in the fields of\n",
      "image rendering, geometric modelling and computer animation.\n",
      "State of the art graphics workstations (Sun, Silicon Graphics)\n",
      "and video equipment are available.\n",
      "The Technion offers full...\n",
      "\n",
      "--------------------------------------------------\n",
      "\n",
      "Document 2:\n",
      "Similarity Score: 0.4527\n",
      "Content: EUROPEAN COMPUTER RESEARCH CENTRE\n",
      "\n",
      "Research Positions in 3D Graphics\n",
      "\n",
      "ECRC is currently expanding its research staff in three-dimensional\n",
      "graphics. We are looking for highly qualified researchers with a PhD in\n",
      "computer science and a proven ability to conduct highly innovative\n",
      "research. Preference will be given to candidates who have strong\n",
      "experience in developing and implementing algorithms for\n",
      "three-dimensional graphics, visualization and user interaction. We\n",
      "presently have positions available...\n",
      "\n",
      "--------------------------------------------------\n",
      "\n",
      "Document 3:\n",
      "Similarity Score: 0.4101\n",
      "Content: Within the next several months I'll be looking for a job in computer\n",
      "graphics software.  I'm in need of info on graphics software companies. \n",
      "I've checked the FAQ, the resource list, and siggraph.org, haven't found\n",
      "anything.  The last <mark>Computer Graphics</mark> Career Handbook that I'm aware of,\n",
      "was published in 1991.  It has a list of 40 companies in it, but no\n",
      "tremendously specific information on any of them.\n",
      "\n",
      "Can people please steer me towards more current and in-depth informational\n",
      "resou...\n",
      "\n",
      "--------------------------------------------------\n",
      "\n",
      "Query: artificial intelligence\n",
      "\n",
      "Document 1:\n",
      "Similarity Score: 0.4723\n",
      "Content: If you have any information on <mark>artificial intelligence</mark> in medicine, then I\n",
      "would appreciate it if you could mail me with whatever it is. The informations\n",
      "is needed for a project.\n",
      "\n",
      "Thank you, Ian....\n",
      "\n",
      "--------------------------------------------------\n",
      "\n",
      "Document 2:\n",
      "Similarity Score: 0.2337\n",
      "Content: \n",
      "    But no one (or at least, not many people) are trying to pass off God\n",
      "as a scientific fact.  Not so with Kirlian photography.  I'll admit that\n",
      "it is possible that some superior intelligence exists elsewhere, and if\n",
      "people want to label that intelligence \"God\", I'm not going to stop\n",
      "them.  Anyway, let's _not_ turn this into a theological debate.  ;-)\n",
      "\n",
      "\n",
      "    Read alt.fan.robert.mcelwaine sometime.  I've never been so\n",
      "closed-minded before subscribing to that group.  :)\n",
      "...\n",
      "\n",
      "--------------------------------------------------\n",
      "\n",
      "Document 3:\n",
      "Similarity Score: 0.2014\n",
      "Content: \n",
      "\n",
      "\n",
      "\n",
      "Good comeback, Rog.  Your quick wit and intelligence continues to\n",
      "amaze everyone.\n",
      "...\n",
      "\n",
      "--------------------------------------------------\n",
      "\n",
      "Query: quantum computing\n",
      "\n",
      "Document 1:\n",
      "Similarity Score: 0.3609\n",
      "Content: \n",
      "Forgot to mention that the above mentioned Quantum is a SCSI\n",
      "drive....\n",
      "\n",
      "--------------------------------------------------\n",
      "\n",
      "Document 2:\n",
      "Similarity Score: 0.2442\n",
      "Content: The Quantum BBS number is 408-894-3214.  Good luck.\n",
      "\n",
      "Les\n",
      "\n",
      "\n",
      "...\n",
      "\n",
      "--------------------------------------------------\n",
      "\n",
      "Document 3:\n",
      "Similarity Score: 0.2178\n",
      "Content: \n",
      "I've been following this train of talk, and the question of dismissing atoms as  \n",
      "being in some sense \"not real\" leaves me uneasy.\n",
      "\n",
      "It seems to be implied that we obseve only the effects, and therefore the  \n",
      "underlying thing is not necessarily real.  The tree outside my window is in  \n",
      "this category... is observe the light which bounces off of it, not the tree  \n",
      "itself.  The observation is indirect, but no more so than observations I have  \n",
      "made of atoms.\n",
      "\n",
      "Also, what about observations and exper...\n",
      "\n",
      "--------------------------------------------------\n",
      "\n"
     ]
    }
   ],
   "source": [
    "for query in queries:\n",
    "    highlighted_docs = retrieve_top_documents(query, X, vectorizer, data)\n",
    "    format_output(query, highlighted_docs)\n"
   ]
  },
  {
   "cell_type": "code",
   "execution_count": null,
   "id": "82c158c5-e459-4691-9a62-e5e1c44dfb55",
   "metadata": {},
   "outputs": [],
   "source": []
  }
 ],
 "metadata": {
  "kernelspec": {
   "display_name": "venv",
   "language": "python",
   "name": "python3"
  },
  "language_info": {
   "codemirror_mode": {
    "name": "ipython",
    "version": 3
   },
   "file_extension": ".py",
   "mimetype": "text/x-python",
   "name": "python",
   "nbconvert_exporter": "python",
   "pygments_lexer": "ipython3",
   "version": "3.11.4"
  }
 },
 "nbformat": 4,
 "nbformat_minor": 5
}
